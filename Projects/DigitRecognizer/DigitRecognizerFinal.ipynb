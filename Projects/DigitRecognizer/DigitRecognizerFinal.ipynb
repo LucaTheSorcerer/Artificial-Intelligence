{
 "cells": [
  {
   "cell_type": "code",
   "metadata": {
    "ExecuteTime": {
     "end_time": "2024-05-26T15:34:38.432585Z",
     "start_time": "2024-05-26T15:34:36.403425Z"
    }
   },
   "source": [
    "import math\n",
    "import numpy as np\n",
    "import pandas as pd\n",
    "import matplotlib.pyplot as plt\n",
    "import seaborn as sns\n",
    "import tensorflow as tf\n",
    "from keras.callbacks import EarlyStopping, ReduceLROnPlateau\n",
    "from sklearn.model_selection import train_test_split\n",
    "from sklearn.manifold import TSNE\n",
    "from keras.layers import Dense, Conv2D, MaxPooling2D, Flatten, Input, Dropout\n",
    "from keras.regularizers import l2\n",
    "from keras.models import Sequential, Model\n",
    "from keras.optimizers.legacy import Adam\n",
    "from keras.utils import plot_model\n",
    "%matplotlib inline\n"
   ],
   "outputs": [],
   "execution_count": 12
  },
  {
   "cell_type": "markdown",
   "metadata": {},
   "source": [
    "## Data Loading"
   ]
  },
  {
   "cell_type": "code",
   "metadata": {
    "ExecuteTime": {
     "end_time": "2024-05-26T15:34:29.690865Z",
     "start_time": "2024-05-26T15:34:29.687952Z"
    }
   },
   "source": [
    "def load_data():\n",
    "    train = pd.read_csv('train.csv')\n",
    "    test = pd.read_csv('test.csv')\n",
    "    return train, test"
   ],
   "outputs": [],
   "execution_count": 10
  },
  {
   "cell_type": "markdown",
   "metadata": {},
   "source": [
    "## Data Preprocessing"
   ]
  },
  {
   "cell_type": "code",
   "metadata": {
    "ExecuteTime": {
     "end_time": "2024-05-26T15:34:17.016787Z",
     "start_time": "2024-05-26T15:34:17.014156Z"
    }
   },
   "source": [
    "def preprocess_data(train, test):\n",
    "    X = train.iloc[:, 1:785]\n",
    "    y = train.iloc[:, 0]\n",
    "    X_test = test.iloc[:, 0:784]\n",
    "\n",
    "    X = X / 255.0\n",
    "    X_test = X_test / 255.0\n",
    "    \n",
    "    # Reshape images\n",
    "    X_train, X_validation, y_train, y_validation = train_test_split(X, y, test_size=0.2, random_state=1212)\n",
    "    x_train_re = X_train.to_numpy().reshape(X_train.shape[0], 28, 28, 1)\n",
    "    x_validation_re = X_validation.to_numpy().reshape(X_validation.shape[0], 28, 28, 1)\n",
    "    x_test_re = X_test.to_numpy().reshape(X_test.shape[0], 28, 28, 1)\n",
    "    \n",
    "    return x_train_re, y_train, x_validation_re, y_validation, x_test_re\n"
   ],
   "outputs": [],
   "execution_count": 1
  },
  {
   "metadata": {
    "ExecuteTime": {
     "end_time": "2024-05-26T15:47:28.036787Z",
     "start_time": "2024-05-26T15:47:28.030283Z"
    }
   },
   "cell_type": "code",
   "source": [
    "def preprocess_data_for_tsne(train):\n",
    "    X = train.iloc[:, 1:785]  # Feature columns\n",
    "    y = train.iloc[:, 0]      # Label column\n",
    "    return X, y\n"
   ],
   "outputs": [],
   "execution_count": 21
  },
  {
   "cell_type": "markdown",
   "metadata": {},
   "source": [
    "## Visualization Functions"
   ]
  },
  {
   "cell_type": "code",
   "metadata": {
    "ExecuteTime": {
     "end_time": "2024-05-26T15:34:17.797418Z",
     "start_time": "2024-05-26T15:34:17.794628Z"
    }
   },
   "source": [
    "def plot_digits(data, labels, num_digits):\n",
    "    num_cells = math.ceil(math.sqrt(num_digits))\n",
    "    plt.figure(figsize=(10, 10))\n",
    "    for i in range(num_digits):\n",
    "        plt.subplot(num_cells, num_cells, i+1)\n",
    "        plt.xticks([])\n",
    "        plt.yticks([])\n",
    "        plt.grid(False)\n",
    "        plt.imshow(data[i].reshape(28, 28), cmap=plt.cm.binary)\n",
    "        plt.xlabel(labels[i])\n",
    "    plt.show()"
   ],
   "outputs": [],
   "execution_count": 2
  },
  {
   "cell_type": "code",
   "metadata": {
    "ExecuteTime": {
     "end_time": "2024-05-26T15:34:18.611201Z",
     "start_time": "2024-05-26T15:34:18.606542Z"
    }
   },
   "source": [
    "def plot_history(history):\n",
    "    epochs = range(1, len(history.history['accuracy']) + 1)\n",
    "    \n",
    "    plt.figure(figsize=(12, 5))\n",
    "    \n",
    "    # Plot training and validation accuracy\n",
    "    plt.subplot(1, 2, 1)\n",
    "    plt.plot(epochs, history.history['accuracy'], 'bo-', label='Training accuracy')\n",
    "    plt.plot(epochs, history.history['val_accuracy'], 'go-', label='Validation accuracy')\n",
    "    plt.title('Training and validation accuracy')\n",
    "    plt.xlabel('Epoch')\n",
    "    plt.ylabel('Accuracy')\n",
    "    plt.legend()\n",
    "    \n",
    "    # Plot training and validation loss\n",
    "    plt.subplot(1, 2, 2)\n",
    "    plt.plot(epochs, history.history['loss'], 'ro-', label='Training loss')\n",
    "    plt.plot(epochs, history.history['val_loss'], 'mo-', label='Validation loss')\n",
    "    plt.title('Training and validation loss')\n",
    "    plt.xlabel('Epoch')\n",
    "    plt.ylabel('Loss')\n",
    "    plt.legend()\n",
    "    \n",
    "    plt.tight_layout()\n",
    "    plt.show()"
   ],
   "outputs": [],
   "execution_count": 3
  },
  {
   "metadata": {
    "ExecuteTime": {
     "end_time": "2024-05-26T15:42:39.568931Z",
     "start_time": "2024-05-26T15:42:39.563829Z"
    }
   },
   "cell_type": "code",
   "source": [
    "def plot_tsne(X, y):\n",
    "    X_normalized = X / 255\n",
    "    \n",
    "    tsne = TSNE(n_components=2, random_state=42) \n",
    "    \n",
    "    tsne_res = tsne.fit_transform(X_normalized)\n",
    "    \n",
    "    plt.figure(figsize=(14, 12))\n",
    "    scatter = plt.scatter(tsne_res[:, 0], tsne_res[:, 1], c=y, cmap=plt.cm.get_cmap(\"jet\", 10), marker='o', s=2, edgecolor='k')\n",
    "    plt.colorbar(scatter, ticks=range(10))\n",
    "    plt.xticks([])\n",
    "    plt.yticks([])\n",
    "    plt.title('t-SNE visualization of the digits')\n",
    "    plt.show()"
   ],
   "outputs": [],
   "execution_count": 18
  },
  {
   "cell_type": "markdown",
   "metadata": {},
   "source": [
    "## Model Definitions"
   ]
  },
  {
   "cell_type": "markdown",
   "metadata": {},
   "source": [
    "### Base model"
   ]
  },
  {
   "cell_type": "code",
   "metadata": {
    "ExecuteTime": {
     "end_time": "2024-05-26T15:38:10.607673Z",
     "start_time": "2024-05-26T15:38:10.604522Z"
    }
   },
   "source": [
    "def create_base_model(input_shape):\n",
    "    model = Sequential()\n",
    "    model.add(Conv2D(filters=8, kernel_size=3, activation='relu', input_shape=input_shape))\n",
    "    model.add(MaxPooling2D(pool_size=(2,2)))\n",
    "    model.add(Flatten())\n",
    "    model.add(Dense(10, activation='softmax'))\n",
    "\n",
    "    optimizer = Adam(learning_rate=0.005)\n",
    "    model.compile(optimizer=optimizer, loss='sparse_categorical_crossentropy', metrics=['accuracy'])\n",
    "\n",
    "    return model"
   ],
   "outputs": [],
   "execution_count": 15
  },
  {
   "cell_type": "markdown",
   "metadata": {},
   "source": [
    "### Refined model"
   ]
  },
  {
   "cell_type": "code",
   "metadata": {
    "ExecuteTime": {
     "end_time": "2024-05-26T15:34:22.005418Z",
     "start_time": "2024-05-26T15:34:22.002119Z"
    }
   },
   "source": [
    "def create_refined_model(input_shape):\n",
    "    model = Sequential()\n",
    "    model.add(Conv2D(filters=8, kernel_size=5, activation='relu', input_shape=input_shape,\n",
    "                     kernel_initializer='VarianceScaling',\n",
    "                     kernel_regularizer=l2(0.01)))  # L2 regularization\n",
    "    model.add(MaxPooling2D(pool_size=(2, 2)))\n",
    "    model.add(Conv2D(filters=16, kernel_size=5, activation='relu', \n",
    "                     kernel_initializer='VarianceScaling',\n",
    "                     kernel_regularizer=l2(0.01)))  # L2 regularization\n",
    "    model.add(MaxPooling2D(pool_size=(2, 2)))\n",
    "    model.add(Flatten())\n",
    "    model.add(Dense(128, activation='relu'))\n",
    "    model.add(Dropout(0.2))\n",
    "    model.add(Dense(10, activation='softmax'))\n",
    "\n",
    "    optimizer = Adam(learning_rate=0.005)\n",
    "    model.compile(optimizer=optimizer, loss='sparse_categorical_crossentropy', metrics=['accuracy'])\n",
    "    return model"
   ],
   "outputs": [],
   "execution_count": 5
  },
  {
   "cell_type": "markdown",
   "metadata": {},
   "source": [
    "## Training the model"
   ]
  },
  {
   "cell_type": "code",
   "metadata": {
    "ExecuteTime": {
     "end_time": "2024-05-26T15:34:22.928258Z",
     "start_time": "2024-05-26T15:34:22.925660Z"
    }
   },
   "source": [
    "def train_model(model, x_train, y_train, x_val, y_val):\n",
    "    early_stopping = EarlyStopping(monitor='val_loss', patience=10, verbose=1)\n",
    "    learning_rate_reduction = ReduceLROnPlateau(monitor='val_loss', patience=3, verbose=1, factor=0.5, min_lr=0.00001)\n",
    "    history = model.fit(x_train, y_train, epochs=50, validation_data=(x_val, y_val),\n",
    "                        callbacks=[early_stopping, learning_rate_reduction], batch_size=100)\n",
    "    \n",
    "    plot_history(history)\n",
    "    return history\n"
   ],
   "outputs": [],
   "execution_count": 6
  },
  {
   "cell_type": "markdown",
   "metadata": {},
   "source": [
    "## Evaluation and Prediction Function"
   ]
  },
  {
   "cell_type": "code",
   "metadata": {
    "ExecuteTime": {
     "end_time": "2024-05-26T15:34:24.607939Z",
     "start_time": "2024-05-26T15:34:24.605285Z"
    }
   },
   "source": [
    "def evaluate_model(model, x_train, y_train, x_val, y_val):\n",
    "    train_loss, train_accuracy = model.evaluate(x_train, y_train)\n",
    "    val_loss, val_accuracy = model.evaluate(x_val, y_val)\n",
    "    print('Train loss:', train_loss)\n",
    "    print('Train accuracy:', train_accuracy)\n",
    "    print('Validation loss:', val_loss)\n",
    "    print('Validation accuracy:', val_accuracy)"
   ],
   "outputs": [],
   "execution_count": 7
  },
  {
   "cell_type": "markdown",
   "metadata": {},
   "source": [
    "## Saving and Loading the model Functions"
   ]
  },
  {
   "cell_type": "code",
   "metadata": {
    "ExecuteTime": {
     "end_time": "2024-05-26T15:34:25.434246Z",
     "start_time": "2024-05-26T15:34:25.431992Z"
    }
   },
   "source": [
    "def save_model(model, filename):\n",
    "    model.save(filename)\n",
    "\n",
    "def load_model(filename):\n",
    "    return tf.keras.models.load_model(filename)"
   ],
   "outputs": [],
   "execution_count": 8
  },
  {
   "cell_type": "code",
   "metadata": {
    "jupyter": {
     "is_executing": true
    },
    "ExecuteTime": {
     "start_time": "2024-05-26T15:48:32.611363Z"
    }
   },
   "source": [
    "def main():\n",
    "    train, test = load_data()\n",
    "    \n",
    "    X_tsne, y_tsne = preprocess_data_for_tsne(train)  # Preprocess specifically for t-SNE\n",
    "    print(\"Plot t-SNE...\")\n",
    "    plot_tsne(X_tsne, y_tsne)  \n",
    "    \n",
    "    # x_train, y_train, x_val, y_val, x_test = preprocess_data(train, test)\n",
    "    # print(\"Training Base Model...\")\n",
    "    # base_model = create_base_model((28, 28, 1))\n",
    "    # print(base_model.summary())\n",
    "    # plot_model(base_model, show_shapes=True, show_layer_names=True, to_file='base_model.png')\n",
    "    # train_model(base_model, x_train, y_train, x_val, y_val)\n",
    "    # evaluate_model(base_model, x_train, y_train, x_val, y_val)\n",
    "    # \n",
    "    # print(\"Training Refined Model...\")\n",
    "    # refined_model = create_refined_model((28, 28, 1))\n",
    "    # print(refined_model.summary())\n",
    "    # plot_model(refined_model, show_shapes=True, show_layer_names=True, to_file='refined_model.png')\n",
    "    # train_model(refined_model, x_train, y_train, x_val, y_val)\n",
    "    # evaluate_model(refined_model, x_train, y_train, x_val, y_val)\n",
    "\n",
    "main()"
   ],
   "outputs": [
    {
     "name": "stdout",
     "output_type": "stream",
     "text": [
      "Plot t-SNE...\n"
     ]
    }
   ],
   "execution_count": null
  },
  {
   "cell_type": "code",
   "execution_count": null,
   "metadata": {},
   "outputs": [],
   "source": []
  }
 ],
 "metadata": {
  "kernelspec": {
   "display_name": "tensyflow",
   "language": "python",
   "name": "tensyflow"
  },
  "language_info": {
   "codemirror_mode": {
    "name": "ipython",
    "version": 3
   },
   "file_extension": ".py",
   "mimetype": "text/x-python",
   "name": "python",
   "nbconvert_exporter": "python",
   "pygments_lexer": "ipython3",
   "version": "3.10.13"
  }
 },
 "nbformat": 4,
 "nbformat_minor": 2
}
